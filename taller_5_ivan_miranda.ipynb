{
  "nbformat": 4,
  "nbformat_minor": 0,
  "metadata": {
    "colab": {
      "provenance": [],
      "authorship_tag": "ABX9TyNvQ3uCFOl+Wfnu4Dg0Rw0W",
      "include_colab_link": true
    },
    "kernelspec": {
      "name": "python3",
      "display_name": "Python 3"
    },
    "language_info": {
      "name": "python"
    }
  },
  "cells": [
    {
      "cell_type": "markdown",
      "metadata": {
        "id": "view-in-github",
        "colab_type": "text"
      },
      "source": [
        "<a href=\"https://colab.research.google.com/github/Ivanman10/taller_5_programacion./blob/main/taller_5_ivan_miranda.ipynb\" target=\"_parent\"><img src=\"https://colab.research.google.com/assets/colab-badge.svg\" alt=\"Open In Colab\"/></a>"
      ]
    },
    {
      "cell_type": "code",
      "execution_count": null,
      "metadata": {
        "id": "UvawNRgWZbYN"
      },
      "outputs": [],
      "source": []
    },
    {
      "cell_type": "markdown",
      "source": [
        "TALLER 5 DE PROGRAMACION\n",
        "\n",
        "IVAN MIRANDA MANJARRES\n",
        "\n",
        "000405236"
      ],
      "metadata": {
        "id": "E-c4Qsi_ZcNR"
      }
    },
    {
      "cell_type": "code",
      "source": [],
      "metadata": {
        "id": "kVYeQj2IZh8M"
      },
      "execution_count": null,
      "outputs": []
    },
    {
      "cell_type": "markdown",
      "source": [
        "EJERCICIO 1"
      ],
      "metadata": {
        "id": "E11qX7mZZii9"
      }
    },
    {
      "cell_type": "code",
      "source": [
        "# Solicitar al usuario un número entero positivo\n",
        "n = int(input(\"Ingrese un número entero positivo: \"))\n",
        "\n",
        "# Validar si el número ingresado es positivo\n",
        "if n <= 0:\n",
        "    print(\"Por favor, ingrese un número entero positivo.\")\n",
        "else:\n",
        "    # Inicializar una variable para contar los números naturales\n",
        "    contador = 1\n",
        "\n",
        "    # Usar un ciclo while para imprimir los primeros n números naturales\n",
        "    while contador <= n:\n",
        "        print(contador)\n",
        "        contador += 1\n"
      ],
      "metadata": {
        "colab": {
          "base_uri": "https://localhost:8080/"
        },
        "id": "SaD5ydr4ZjuF",
        "outputId": "d1fc38f3-326f-40ab-aa82-1bf32f0a64bb"
      },
      "execution_count": 2,
      "outputs": [
        {
          "output_type": "stream",
          "name": "stdout",
          "text": [
            "Ingrese un número entero positivo: 4\n",
            "1\n",
            "2\n",
            "3\n",
            "4\n"
          ]
        }
      ]
    },
    {
      "cell_type": "code",
      "source": [],
      "metadata": {
        "id": "ORkhAP_BZn8S"
      },
      "execution_count": null,
      "outputs": []
    },
    {
      "cell_type": "markdown",
      "source": [
        "EJERICICIO 2"
      ],
      "metadata": {
        "id": "vEt103OeZojc"
      }
    },
    {
      "cell_type": "code",
      "source": [
        "# Inicializar una variable para almacenar la suma\n",
        "suma = 0\n",
        "\n",
        "# Usar un ciclo for para recorrer los números del 1 al 100\n",
        "for numero in range(1, 101):\n",
        "    # Verificar si el número es par\n",
        "    if numero % 2 == 0:\n",
        "        # Sumar el número par a la suma total\n",
        "        suma += numero\n",
        "\n",
        "# Imprimir la suma de los números pares\n",
        "print(\"La suma de los números pares del 1 al 100 es:\", suma)\n"
      ],
      "metadata": {
        "colab": {
          "base_uri": "https://localhost:8080/"
        },
        "id": "6m7tO4jNZqpI",
        "outputId": "f8d157fc-201b-4b57-edcd-4590041ae667"
      },
      "execution_count": 3,
      "outputs": [
        {
          "output_type": "stream",
          "name": "stdout",
          "text": [
            "La suma de los números pares del 1 al 100 es: 2550\n"
          ]
        }
      ]
    },
    {
      "cell_type": "code",
      "source": [],
      "metadata": {
        "id": "1Jvd2h8LZuoJ"
      },
      "execution_count": null,
      "outputs": []
    },
    {
      "cell_type": "markdown",
      "source": [
        "EJERCICIO 3"
      ],
      "metadata": {
        "id": "_YTpoMFAZwww"
      }
    },
    {
      "cell_type": "code",
      "source": [
        "# Solicitar al usuario la cantidad de filas para el patrón\n",
        "n = int(input(\"Ingrese la cantidad de filas para el patrón: \"))\n",
        "\n",
        "# Usar un ciclo for para iterar a través de las filas\n",
        "for i in range(1, n + 1):\n",
        "    # Usar un ciclo interno para imprimir los números desde 1 hasta i\n",
        "    for j in range(1, i + 1):\n",
        "        print(j, end='')\n",
        "    # Imprimir un salto de línea al final de cada fila\n",
        "    print()\n"
      ],
      "metadata": {
        "colab": {
          "base_uri": "https://localhost:8080/"
        },
        "id": "DsM5f-GzZyTX",
        "outputId": "15e9f154-f880-4a83-ecb0-f442a1a20904"
      },
      "execution_count": 4,
      "outputs": [
        {
          "output_type": "stream",
          "name": "stdout",
          "text": [
            "Ingrese la cantidad de filas para el patrón: 5\n",
            "1\n",
            "12\n",
            "123\n",
            "1234\n",
            "12345\n"
          ]
        }
      ]
    },
    {
      "cell_type": "code",
      "source": [],
      "metadata": {
        "id": "yUMEPRptZ1SY"
      },
      "execution_count": null,
      "outputs": []
    },
    {
      "cell_type": "markdown",
      "source": [
        "EJERCICIO 4"
      ],
      "metadata": {
        "id": "LhelEIEnZ2-C"
      }
    },
    {
      "cell_type": "code",
      "source": [
        "# Solicitar al usuario un número entero positivo\n",
        "n = int(input(\"Ingrese un número entero positivo: \"))\n",
        "\n",
        "# Validar si el número ingresado es positivo\n",
        "if n <= 0:\n",
        "    print(\"Por favor, ingrese un número entero positivo.\")\n",
        "else:\n",
        "    # Inicializar una variable para contar los divisores\n",
        "    contador_divisores = 0\n",
        "    # Inicializar un divisor para comenzar desde 2\n",
        "    divisor = 2\n",
        "\n",
        "    # Usar un ciclo while para determinar si el número es primo\n",
        "    while divisor <= n // 2:\n",
        "        if n % divisor == 0:\n",
        "            contador_divisores += 1\n",
        "            break  # Si se encuentra un divisor, salir del ciclo\n",
        "        divisor += 1\n",
        "\n",
        "    # Comprobar el número de divisores y determinar si es primo o no\n",
        "    if contador_divisores == 0:\n",
        "        print(f\"{n} es un número primo.\")\n",
        "    else:\n",
        "        print(f\"{n} no es un número primo.\")\n"
      ],
      "metadata": {
        "colab": {
          "base_uri": "https://localhost:8080/"
        },
        "id": "9Ldf9V-3Z5Yo",
        "outputId": "28e9e21f-4a4e-4998-d474-c7f484e47ed0"
      },
      "execution_count": 5,
      "outputs": [
        {
          "output_type": "stream",
          "name": "stdout",
          "text": [
            "Ingrese un número entero positivo: 4\n",
            "4 no es un número primo.\n"
          ]
        }
      ]
    },
    {
      "cell_type": "code",
      "source": [],
      "metadata": {
        "id": "U8cDWZkWZ8t8"
      },
      "execution_count": null,
      "outputs": []
    },
    {
      "cell_type": "markdown",
      "source": [
        "EJERCICIO 5"
      ],
      "metadata": {
        "id": "W55N9-f1Z_Hk"
      }
    },
    {
      "cell_type": "code",
      "source": [
        "while True:\n",
        "    # Solicitar al usuario una operación o \"salir\" para salir del ciclo\n",
        "    operacion = input(\"Ingrese una operación (suma, resta, multiplicación, división) o 'salir' para salir: \").lower()\n",
        "\n",
        "    # Comprobar si el usuario desea salir del ciclo\n",
        "    if operacion == 'salir':\n",
        "        print(\"Saliendo del programa. ¡Hasta luego!\")\n",
        "        break  # Salir del ciclo while\n",
        "\n",
        "    # Comprobar si la operación es válida\n",
        "    if operacion not in ('suma', 'resta', 'multiplicación', 'división'):\n",
        "        print(\"Operación no válida. Por favor, ingrese una operación válida.\")\n",
        "        continue  # Volver al inicio del ciclo\n",
        "\n",
        "    # Solicitar dos números al usuario\n",
        "    num1 = float(input(\"Ingrese el primer número: \"))\n",
        "    num2 = float(input(\"Ingrese el segundo número: \"))\n",
        "\n",
        "    # Realizar la operación seleccionada\n",
        "    if operacion == 'suma':\n",
        "        resultado = num1 + num2\n",
        "    elif operacion == 'resta':\n",
        "        resultado = num1 - num2\n",
        "    elif operacion == 'multiplicación':\n",
        "        resultado = num1 * num2\n",
        "    elif operacion == 'división':\n",
        "        if num2 == 0:\n",
        "            print(\"No se puede dividir entre cero.\")\n",
        "            continue  # Volver al inicio del ciclo\n",
        "        resultado = num1 / num2\n",
        "\n",
        "    # Imprimir el resultado\n",
        "    print(\"El resultado de la operación es:\", resultado)"
      ],
      "metadata": {
        "colab": {
          "base_uri": "https://localhost:8080/"
        },
        "id": "cSaBJ2LeaAMf",
        "outputId": "90310bcd-5aad-4c96-8ee8-dd5a6283871f"
      },
      "execution_count": 6,
      "outputs": [
        {
          "output_type": "stream",
          "name": "stdout",
          "text": [
            "Ingrese una operación (suma, resta, multiplicación, división) o 'salir' para salir: SUMA \n",
            "Operación no válida. Por favor, ingrese una operación válida.\n",
            "Ingrese una operación (suma, resta, multiplicación, división) o 'salir' para salir: suma\n",
            "Ingrese el primer número: 3\n",
            "Ingrese el segundo número: 4\n",
            "El resultado de la operación es: 7.0\n",
            "Ingrese una operación (suma, resta, multiplicación, división) o 'salir' para salir: salir\n",
            "Saliendo del programa. ¡Hasta luego!\n"
          ]
        }
      ]
    },
    {
      "cell_type": "code",
      "source": [],
      "metadata": {
        "id": "IClE77uLaCPd"
      },
      "execution_count": 6,
      "outputs": []
    },
    {
      "cell_type": "markdown",
      "source": [
        "EJERCICIO 6"
      ],
      "metadata": {
        "id": "pHUUGyzVaKmI"
      }
    },
    {
      "cell_type": "code",
      "source": [
        "# Solicitar al usuario un número entero\n",
        "numero = int(input(\"Ingrese un número entero: \"))\n",
        "\n",
        "# Usar un ciclo for con range para imprimir en orden descendente\n",
        "for i in range(numero, 0, -1):\n",
        "    print(i)\n"
      ],
      "metadata": {
        "colab": {
          "base_uri": "https://localhost:8080/"
        },
        "id": "ZpNEy43FaM-8",
        "outputId": "9f05e58b-8ad0-43a6-a8f6-e28432c30275"
      },
      "execution_count": 7,
      "outputs": [
        {
          "output_type": "stream",
          "name": "stdout",
          "text": [
            "Ingrese un número entero: 4\n",
            "4\n",
            "3\n",
            "2\n",
            "1\n"
          ]
        }
      ]
    },
    {
      "cell_type": "code",
      "source": [],
      "metadata": {
        "id": "joU8XtVPaPr6"
      },
      "execution_count": null,
      "outputs": []
    },
    {
      "cell_type": "markdown",
      "source": [
        "EJERCICIO 7"
      ],
      "metadata": {
        "id": "Kb4SqyOmaRHH"
      }
    },
    {
      "cell_type": "code",
      "source": [
        "# Solicitar al usuario un valor 'n'\n",
        "n = int(input(\"Ingrese un valor para n: \"))\n",
        "\n",
        "# Inicializar los primeros dos números de Fibonacci\n",
        "a, b = 0, 1\n",
        "\n",
        "# Imprimir el primer número (0)\n",
        "print(a)\n",
        "\n",
        "# Usar un ciclo while para calcular e imprimir los números de Fibonacci hasta n\n",
        "while b <= n:\n",
        "    print(b)\n",
        "    a, b = b, a + b\n"
      ],
      "metadata": {
        "colab": {
          "base_uri": "https://localhost:8080/"
        },
        "id": "ybrkn6DPaSSs",
        "outputId": "2368b8a9-2d20-464f-b9b8-c4fc2b1d73f9"
      },
      "execution_count": 8,
      "outputs": [
        {
          "output_type": "stream",
          "name": "stdout",
          "text": [
            "Ingrese un valor para n: 6\n",
            "0\n",
            "1\n",
            "1\n",
            "2\n",
            "3\n",
            "5\n"
          ]
        }
      ]
    },
    {
      "cell_type": "code",
      "source": [],
      "metadata": {
        "id": "sUVSpJO1aUt9"
      },
      "execution_count": null,
      "outputs": []
    },
    {
      "cell_type": "markdown",
      "source": [
        "EJERCICIO 8"
      ],
      "metadata": {
        "id": "ZgUB6N8mabiZ"
      }
    },
    {
      "cell_type": "code",
      "source": [
        "# Solicitar al usuario un número entero positivo\n",
        "numero = int(input(\"Ingrese un número entero positivo: \"))\n",
        "\n",
        "# Validar si el número ingresado es positivo\n",
        "if numero <= 0:\n",
        "    print(\"Por favor, ingrese un número entero positivo.\")\n",
        "else:\n",
        "    # Inicializar la suma de los dígitos en 0\n",
        "    suma_digitos = 0\n",
        "\n",
        "    # Utilizar un ciclo while para sumar los dígitos\n",
        "    while numero > 0:\n",
        "        # Obtener el último dígito del número\n",
        "        digito = numero % 10\n",
        "\n",
        "        # Sumar el último dígito al acumulador\n",
        "        suma_digitos += digito\n",
        "\n",
        "        # Eliminar el último dígito del número\n",
        "        numero //= 10\n",
        "\n",
        "    # Imprimir la suma de los dígitos\n",
        "    print(\"La suma de los dígitos del número es:\", suma_digitos)\n"
      ],
      "metadata": {
        "colab": {
          "base_uri": "https://localhost:8080/"
        },
        "id": "0Rpzr7sqad_F",
        "outputId": "70456839-32c7-400e-bf0e-aa892f4dfb03"
      },
      "execution_count": 11,
      "outputs": [
        {
          "output_type": "stream",
          "name": "stdout",
          "text": [
            "Ingrese un número entero positivo: 45\n",
            "La suma de los dígitos del número es: 9\n"
          ]
        }
      ]
    },
    {
      "cell_type": "code",
      "source": [],
      "metadata": {
        "id": "VLyu5OoPbR_m"
      },
      "execution_count": null,
      "outputs": []
    }
  ]
}